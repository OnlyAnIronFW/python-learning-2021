{
 "cells": [
  {
   "cell_type": "markdown",
   "metadata": {},
   "source": [
    "# 导入pandas模块重命名为pd"
   ]
  },
  {
   "cell_type": "code",
   "execution_count": null,
   "metadata": {},
   "outputs": [],
   "source": []
  },
  {
   "cell_type": "markdown",
   "metadata": {},
   "source": [
    "  "
   ]
  },
  {
   "cell_type": "markdown",
   "metadata": {},
   "source": [
    "# 活动1：Series\n",
    "## （1）创建Series对象\n",
    "\n",
    "索引为同学的姓名，值为同学的选考总分(参看P120页)\n",
    "示例：\n",
    "\n",
    "夏语冰   280 \n",
    "\n",
    "蔡奕凡   279\n",
    "\n",
    "姜乐央   255"
   ]
  },
  {
   "cell_type": "code",
   "execution_count": null,
   "metadata": {},
   "outputs": [],
   "source": [
    "import pandas as pd       #导入pandas模块\n",
    "xm=['夏语冰','蔡奕凡','姜乐央']\n",
    "s1=                       #用Series创建一维数据\n",
    "print(s1)"
   ]
  },
  {
   "cell_type": "markdown",
   "metadata": {},
   "source": [
    "## （2）遍历Series\n",
    "\n",
    "求三位同学选考科目总分的平均分(参看Ｐ121页例2)"
   ]
  },
  {
   "cell_type": "code",
   "execution_count": null,
   "metadata": {},
   "outputs": [],
   "source": [
    "num=0         #统计个数\n",
    "sum=0         #总分累加\n",
    "for i in __________:  #遍历\n",
    "    sum+=i\n",
    "    num+=1\n",
    "average=sum/num\n",
    "print(average)"
   ]
  },
  {
   "cell_type": "markdown",
   "metadata": {},
   "source": [
    "## （3）函数的使用\n",
    "求平均分过程，可以使用求平均值函数mean()来取代,例：对象名.函数名()   例：s1.mean()"
   ]
  },
  {
   "cell_type": "code",
   "execution_count": null,
   "metadata": {},
   "outputs": [],
   "source": [
    "print(______________)      #Series求平均值函数，参看书本123页常函数表"
   ]
  },
  {
   "cell_type": "markdown",
   "metadata": {},
   "source": [
    "  \n",
    "  "
   ]
  },
  {
   "cell_type": "markdown",
   "metadata": {
    "tags": []
   },
   "source": [
    "# 活动2：DataFrame的构建\n",
    "## （1）字典构建DataFrame对象df\n",
    "(参考：书本p121例3):"
   ]
  },
  {
   "cell_type": "code",
   "execution_count": null,
   "metadata": {},
   "outputs": [],
   "source": [
    "import pandas as pd  #导入pandas模块\n",
    "data={'姓名':['夏语冰','蔡奕凡','姜乐央'],'选考总分':[286,287,276],'化学':[96,92,92],'生物':[93,97,94],'政治':[97,98,90]}    #创建三位学生的选考科目成绩的字典\n",
    "df1=pd._______________________                #创建DataFrame对象,['姓名','化学','生物','政治']\n",
    "print(df1)"
   ]
  },
  {
   "cell_type": "markdown",
   "metadata": {},
   "source": [
    "## （2）读取Excel文件\n",
    "使用read_excel函数创建DataFrame对象:"
   ]
  },
  {
   "cell_type": "code",
   "execution_count": null,
   "metadata": {},
   "outputs": [],
   "source": []
  },
  {
   "cell_type": "markdown",
   "metadata": {},
   "source": [
    "\n",
    "\n",
    "\n"
   ]
  },
  {
   "cell_type": "markdown",
   "metadata": {
    "tags": []
   },
   "source": [
    "# 活动3：DataFrame的应用\n",
    "## （1）遍历DataFrame\n",
    "\n",
    "显示年级排名在10名内的学生名字及排名\n",
    "\n",
    "（参考：书本122页例5）："
   ]
  },
  {
   "cell_type": "code",
   "execution_count": null,
   "metadata": {},
   "outputs": [],
   "source": [
    "for i in _________________:    #书写正确的遍历方式\n",
    "    if ______________:        #条件：年级排名前10名\n",
    "        print(___________)    #显示学生姓名及排名"
   ]
  },
  {
   "cell_type": "markdown",
   "metadata": {},
   "source": [
    "##  （2）布尔型数据筛选满足条件的行\n",
    "\n",
    "如通过df[df[“姓名”]==”夏语冰”],可以检索df对象中学生姓名是“夏语冰”的记录。\n",
    "\n",
    "仿照上句，使用一个语句显示“年级排名”在10名内的学生有关信息（参考：书本123页第1段文字）"
   ]
  },
  {
   "cell_type": "code",
   "execution_count": null,
   "metadata": {},
   "outputs": [],
   "source": [
    "print(df[_______])   #显示年级排名前10名学生信息"
   ]
  },
  {
   "cell_type": "markdown",
   "metadata": {},
   "source": [
    "## （3）“年级前十”排序。\n",
    "“年级排名”前10名学生按照名次由小到大顺序排序显示\n",
    "（参考：书本124页例）  \n",
    "参考知识：\n",
    "df.sort_values(col1)：按照列col1排序数据，默认升序排列\n",
    "df.sort_values(col2, ascending=False)：按照列col1降序排列数据"
   ]
  },
  {
   "cell_type": "code",
   "execution_count": null,
   "metadata": {},
   "outputs": [],
   "source": [
    "df_sort=df._________________________________      #按年级排名升序排序\n",
    "print(df_sort.head(10))                             #显示前10个记录"
   ]
  },
  {
   "cell_type": "markdown",
   "metadata": {},
   "source": [
    "\n",
    "\n"
   ]
  },
  {
   "cell_type": "markdown",
   "metadata": {},
   "source": [
    "## （4）：班级分组\n",
    "将数据按“班级”分组，并显示每个班级的平均分（参考：书本124页例8）\n",
    "\n",
    "\n",
    "参考知识：df.groupby(col，,as_index=False)：返回一个按列col进行分组的groupby对象"
   ]
  },
  {
   "cell_type": "code",
   "execution_count": null,
   "metadata": {},
   "outputs": [],
   "source": [
    "g=df._____________________                 #按班级分组\n",
    "print( __________________)            #显示各科平均值，保留２位小数位"
   ]
  },
  {
   "cell_type": "markdown",
   "metadata": {},
   "source": [
    "  \n",
    "      \n",
    "        "
   ]
  },
  {
   "cell_type": "markdown",
   "metadata": {},
   "source": [
    "# 活动4：DataFrame对象中数据增、删、改、查函数整理"
   ]
  },
  {
   "cell_type": "markdown",
   "metadata": {},
   "source": [
    "## （增）行\n",
    "\n",
    "使用append()函数完成，例df1.append(字典,ignore_index=True)\n",
    "\n",
    "（思考）能增加多行吗？"
   ]
  },
  {
   "cell_type": "code",
   "execution_count": null,
   "metadata": {},
   "outputs": [],
   "source": []
  },
  {
   "cell_type": "markdown",
   "metadata": {},
   "source": [
    "## （增）列\n",
    "\n",
    "例：df[\"物理\"]＝[89，89，98]"
   ]
  },
  {
   "cell_type": "code",
   "execution_count": null,
   "metadata": {},
   "outputs": [],
   "source": []
  },
  {
   "cell_type": "markdown",
   "metadata": {},
   "source": [
    "## （插）列，在指定位置插入列\n",
    "\n",
    "例：df1.insert(loc=5,column='数学', value=[92,96,90])"
   ]
  },
  {
   "cell_type": "code",
   "execution_count": null,
   "metadata": {},
   "outputs": [],
   "source": []
  },
  {
   "cell_type": "markdown",
   "metadata": {},
   "source": [
    "### 注意：append、drop函数会返回另一个df\n",
    "\n",
    "**append()、drop()函数均不改变原有df对象中的数据,而是通过返回另一个DataFrame对象来存放改变后的数据**"
   ]
  },
  {
   "cell_type": "markdown",
   "metadata": {},
   "source": [
    " "
   ]
  },
  {
   "cell_type": "code",
   "execution_count": null,
   "metadata": {},
   "outputs": [],
   "source": []
  },
  {
   "cell_type": "markdown",
   "metadata": {},
   "source": [
    "## （删）删列\n",
    "（方法一）例：del df1[\"化学\"]\n",
    "（方法二）例：df1.drop('生物',axis=1)\n"
   ]
  },
  {
   "cell_type": "code",
   "execution_count": null,
   "metadata": {},
   "outputs": [],
   "source": []
  },
  {
   "cell_type": "markdown",
   "metadata": {},
   "source": [
    "## （删）删行\n",
    "例：df.drop(1)"
   ]
  },
  {
   "cell_type": "code",
   "execution_count": null,
   "metadata": {},
   "outputs": [],
   "source": []
  },
  {
   "cell_type": "markdown",
   "metadata": {},
   "source": [
    "## （改）改列\n",
    "\n",
    "例：df1[\"化学\"]＝[89，89，98]"
   ]
  },
  {
   "cell_type": "code",
   "execution_count": null,
   "metadata": {},
   "outputs": [],
   "source": []
  },
  {
   "cell_type": "markdown",
   "metadata": {},
   "source": [
    "## （重命名）重命名列\n",
    "\n",
    "rename(),例：df1.rename(columns={'生物':'sw'})"
   ]
  },
  {
   "cell_type": "code",
   "execution_count": null,
   "metadata": {},
   "outputs": [],
   "source": []
  },
  {
   "cell_type": "markdown",
   "metadata": {},
   "source": [
    "## （查）列的表示方式：\n",
    "\n",
    "（1）查看一列，例：df[\"姓名\"]和df.姓名\n",
    "\n",
    "（2）查看多列，例：df[['姓名', '物理']])  "
   ]
  },
  {
   "cell_type": "code",
   "execution_count": null,
   "metadata": {},
   "outputs": [],
   "source": []
  },
  {
   "cell_type": "markdown",
   "metadata": {},
   "source": [
    "## （查）行的表示方式：\n",
    "（1）查看满足条件，例：df[df[\"语文\"]>=80]\n",
    "\n",
    "（2）切片，例：df[0:2]，或df[-10:]"
   ]
  },
  {
   "cell_type": "code",
   "execution_count": null,
   "metadata": {},
   "outputs": [],
   "source": []
  },
  {
   "cell_type": "markdown",
   "metadata": {},
   "source": [
    "## （查）选取某个具体值使用at[]方法，例：df1.at[0,\"姓名\"]"
   ]
  },
  {
   "cell_type": "code",
   "execution_count": null,
   "metadata": {},
   "outputs": [],
   "source": []
  },
  {
   "cell_type": "markdown",
   "metadata": {},
   "source": [
    "## （查）找出前/后几行\n",
    "\n",
    "(1)例：找出前2行，df.head(2)  \n",
    "\n",
    "(2)例：找出后2行，df.tail(2)"
   ]
  },
  {
   "cell_type": "code",
   "execution_count": null,
   "metadata": {},
   "outputs": [],
   "source": []
  }
 ],
 "metadata": {
  "kernelspec": {
   "display_name": "Python 3",
   "language": "python",
   "name": "python3"
  },
  "language_info": {
   "codemirror_mode": {
    "name": "ipython",
    "version": 3
   },
   "file_extension": ".py",
   "mimetype": "text/x-python",
   "name": "python",
   "nbconvert_exporter": "python",
   "pygments_lexer": "ipython3",
   "version": "3.7.2"
  }
 },
 "nbformat": 4,
 "nbformat_minor": 4
}
