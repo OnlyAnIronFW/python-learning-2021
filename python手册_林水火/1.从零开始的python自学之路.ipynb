{
 "cells": [
  {
   "cell_type": "markdown",
   "metadata": {},
   "source": [
    "# 请在阅读文字说明的同时运行单元格中的代码，观察结果的同时，多实践，多思考。\n",
    "\n",
    "（某个函数中的参数是否可以调整？如果将数值修改会发生什么？）\n",
    "\n",
    "作者：林水火"
   ]
  },
  {
   "cell_type": "markdown",
   "metadata": {},
   "source": [
    "## 1.0 Python介绍\n",
    "\n",
    "### 为什么使用Python?\n",
    "- 语法简洁、明确，架构清晰易上手。\n",
    "- 使用领域广泛，各大公司开源数据库都有Python接口。\n",
    "  在科学运算、数据分析、网站开发、爬虫开发、云计算、自动化运维等领域优势明显。\n",
    "- 开发效率高，拥有大量工具库，如numpy/scipy（科学计算）、pandas（数据处理）、matplotlib（图像处理）、scikit-learn（机器学习）\n",
    "- 如果你需要你的一段关键代码运行得更快或者希望某些算法不公开，或对性能有要求，还可以使用 c 编写 Python 模块为其加速。"
   ]
  },
  {
   "cell_type": "markdown",
   "metadata": {},
   "source": [
    "\n",
    "<img src=\"https://www.python.org/static/img/python-logo@2x.png\" width=300/> \n",
    "\n"
   ]
  },
  {
   "cell_type": "markdown",
   "metadata": {},
   "source": [
    "### why Jupyter\n",
    "Jupyter Notebook是一个开源的Web应用程序，允许用户创建和共享代码、方程式、可视化和文本。它的用途包括：数据清理和转换、数值模拟、统计建模、数据可视化、机器学习等等。\n",
    "- 简单直观，不需要在各种命令行窗口和编辑器里来回切换。\n",
    "- 丰富的交互式输出，易于保存为各种格式和分享。\n",
    "- 支持超过40种编程语言，包括Python、R、Julia、Scala等。\n",
    "- 自带很多第三方库文件，安装环境也十分方便"
   ]
  },
  {
   "cell_type": "markdown",
   "metadata": {},
   "source": [
    "### 运行程序\n",
    "\n",
    "试着创建一个python文件并运行一个代码段（cell），可以使用以下快捷键，或点击上方的三角形实现\n",
    "- *Ctrl+Enter* \n",
    "- *Shift+Enter*"
   ]
  },
  {
   "cell_type": "code",
   "execution_count": null,
   "metadata": {},
   "outputs": [],
   "source": [
    "## RUN THIS CELL:\n",
    "print(1+1)\n",
    "2+2"
   ]
  },
  {
   "cell_type": "markdown",
   "metadata": {},
   "source": [
    "## 1.1 数据类型\n",
    "\n",
    "| 类型| 例子|\n",
    "| -----  | ----- |\n",
    "| 整数 | `-100` |\n",
    "| 浮点数 | `3.1416` |\n",
    "| 字符串 | `'hello'` |\n",
    "| 列表 | `[1, 1.2, 'hello']` |\n",
    "| 字典 | `{'dogs': 5, 'pigs': 3}`|\n",
    "| 布尔型 | `True, False`"
   ]
  },
  {
   "cell_type": "markdown",
   "metadata": {},
   "source": [
    "### 32位还是64位？\n",
    "\n",
    "计算机中整数的数值上限：\n",
    "\n",
    "在 32 位系统中，一个整型 4 个字节，最小值 `-2,147,483,648`，最大值 `2,147,483,647`。\n",
    "\n",
    "在 64 位系统中，一个整型 8 个字节，最小值 `-9,223,372,036,854,775,808`，最大值 `9,223,372,036,854,775,807`。\n",
    "\n",
    "试着运行下面的代码，看看输出的数值是多少"
   ]
  },
  {
   "cell_type": "code",
   "execution_count": null,
   "metadata": {
    "collapsed": false,
    "jupyter": {
     "outputs_hidden": false
    }
   },
   "outputs": [],
   "source": [
    "import sys\n",
    "sys.maxsize"
   ]
  },
  {
   "cell_type": "markdown",
   "metadata": {},
   "source": [
    "使用`type()`函数来查看变量类型："
   ]
  },
  {
   "cell_type": "code",
   "execution_count": null,
   "metadata": {},
   "outputs": [],
   "source": [
    "\n",
    "#输出数字2的数据类型\n",
    "type(2)\n",
    "#输出字符a的数据类型\n",
    "type('a')"
   ]
  },
  {
   "cell_type": "markdown",
   "metadata": {},
   "source": [
    "<a id=\"Variables-in-Python\"></a>\n",
    "<h2>1.2 变量(Variables)与运算</h2>"
   ]
  },
  {
   "cell_type": "markdown",
   "metadata": {},
   "source": [
    "给变量赋值:\n",
    "- 变量不需要声明，python会自动声明\n",
    "- 等于符号（=）用于赋值"
   ]
  },
  {
   "cell_type": "markdown",
   "metadata": {},
   "source": [
    "变量的命名规则 Regulation & Rules\n",
    "- 变量名称是对大小写敏感的。\n",
    "- 由字母、下划线或数字组成。\n",
    "- 第一个字符不可以是数字"
   ]
  },
  {
   "cell_type": "code",
   "execution_count": null,
   "metadata": {},
   "outputs": [],
   "source": [
    "a = 0.2  \n",
    "b = 0.3\n",
    "a + b #this is a comment"
   ]
  },
  {
   "cell_type": "code",
   "execution_count": null,
   "metadata": {},
   "outputs": [],
   "source": [
    "a = 0.4\n",
    "a+b"
   ]
  },
  {
   "cell_type": "code",
   "execution_count": null,
   "metadata": {},
   "outputs": [],
   "source": [
    "x = 3\n",
    "y = 'cat'\n",
    "x = y\n",
    "x,y"
   ]
  },
  {
   "cell_type": "code",
   "execution_count": null,
   "metadata": {},
   "outputs": [],
   "source": [
    "a = 0\n",
    "print(a)"
   ]
  },
  {
   "cell_type": "markdown",
   "metadata": {},
   "source": [
    "我们还可以把结果存储到变量中，这样我们就可以在之后继续使用。比如："
   ]
  },
  {
   "cell_type": "code",
   "execution_count": null,
   "metadata": {},
   "outputs": [],
   "source": [
    "x = 43 + 60 + 16 + 41"
   ]
  },
  {
   "cell_type": "code",
   "execution_count": null,
   "metadata": {},
   "outputs": [],
   "source": [
    "total_hr = x / 60  # get total hours in a single expression\n",
    "total_hr"
   ]
  },
  {
   "cell_type": "code",
   "execution_count": null,
   "metadata": {},
   "outputs": [],
   "source": [
    "x = 1\n",
    "x = 2\n",
    "print(x)"
   ]
  },
  {
   "cell_type": "code",
   "execution_count": null,
   "metadata": {},
   "outputs": [],
   "source": [
    "x = 5\n",
    "y = 'cat'\n",
    "x = y   #谁变了？谁赋值给谁？\n",
    "x,y"
   ]
  },
  {
   "cell_type": "markdown",
   "metadata": {},
   "source": [
    "在 **Python** 中运算是有优先级的，优先级即算术的先后顺序，比如“先乘除后加减”和“先算括号里面的”都是两种优先级的规则，优先级从高到低排列如下：\n",
    "\n",
    "- `( )` 括号\n",
    "- `**` 幂指数运算\n",
    "- `* / // %` 乘，除，整数除法，取余运算\n",
    "- `+ -` 加减\n"
   ]
  },
  {
   "cell_type": "code",
   "execution_count": null,
   "metadata": {},
   "outputs": [],
   "source": [
    "a = 4\n",
    "b = 3\n",
    "print(\"加:\", a + b)\n",
    "print(\"减:\", a - b)\n",
    "print(\"乘：\", a * b)\n",
    "print(\"除：\", a / b)\n",
    "print('幂：', a ** b)\n",
    "print('取余', a % b)\n",
    "print('取商：', a // b)"
   ]
  },
  {
   "cell_type": "markdown",
   "metadata": {},
   "source": [
    "### 小数运算(浮点数Floating Point Numbers)\n",
    "\n",
    "浮点数与整数进行运算时，返回的仍然是浮点数\n",
    "\n",
    "浮点数也可以进行与整数相似的运算，甚至可以取余"
   ]
  },
  {
   "cell_type": "code",
   "execution_count": 20,
   "metadata": {},
   "outputs": [
    {
     "data": {
      "text/plain": [
       "0.19999999999999973"
      ]
     },
     "execution_count": 20,
     "metadata": {},
     "output_type": "execute_result"
    }
   ],
   "source": [
    "3.4-3.2"
   ]
  },
  {
   "cell_type": "markdown",
   "metadata": {},
   "source": [
    "\n",
    "注意看 `3.4 - 3.2` 的结果并不是我们预期的`0.2`，这是因为浮点数本身储存方式引起的，浮点数本身会存在一点误差。"
   ]
  },
  {
   "cell_type": "markdown",
   "metadata": {},
   "source": [
    "### 原地计算 In-place"
   ]
  },
  {
   "cell_type": "markdown",
   "metadata": {},
   "source": [
    "**Python**可以使用下面的形式进行原地计算：（由于自增变量需要一个起始点，所以需要提前定义变量初值）"
   ]
  },
  {
   "cell_type": "code",
   "execution_count": 57,
   "metadata": {
    "collapsed": false,
    "jupyter": {
     "outputs_hidden": false
    }
   },
   "outputs": [
    {
     "name": "stdout",
     "output_type": "stream",
     "text": [
      "4.5\n",
      "9.0\n",
      "6.0\n"
     ]
    }
   ],
   "source": [
    "b = 2.5\n",
    "b += 2\n",
    "print (b)\n",
    "b *= 2\n",
    "print (b)\n",
    "b -= 3\n",
    "print (b)"
   ]
  },
  {
   "cell_type": "markdown",
   "metadata": {},
   "source": [
    "### 布尔型 Boolean Data Type"
   ]
  },
  {
   "cell_type": "markdown",
   "metadata": {},
   "source": [
    "布尔型可以看成特殊的二值变量，其取值为`True`和`False`："
   ]
  },
  {
   "cell_type": "code",
   "execution_count": 58,
   "metadata": {
    "collapsed": false,
    "jupyter": {
     "outputs_hidden": false
    }
   },
   "outputs": [
    {
     "data": {
      "text/plain": [
       "bool"
      ]
     },
     "execution_count": 58,
     "metadata": {},
     "output_type": "execute_result"
    }
   ],
   "source": [
    "q = True\n",
    "type(q)"
   ]
  },
  {
   "cell_type": "markdown",
   "metadata": {},
   "source": [
    "可以用表达式构建布尔型变量："
   ]
  },
  {
   "cell_type": "code",
   "execution_count": 59,
   "metadata": {
    "collapsed": false,
    "jupyter": {
     "outputs_hidden": false
    }
   },
   "outputs": [
    {
     "name": "stdout",
     "output_type": "stream",
     "text": [
      "False\n"
     ]
    }
   ],
   "source": [
    "q = 1 > 2\n",
    "print (q)"
   ]
  },
  {
   "cell_type": "markdown",
   "metadata": {},
   "source": [
    "常用的比较符号包括：\n",
    "\n",
    "    <, >, <=, >=, ==, !=\n",
    "\n",
    "**Python**支持链式比较："
   ]
  },
  {
   "cell_type": "code",
   "execution_count": 60,
   "metadata": {
    "collapsed": false,
    "jupyter": {
     "outputs_hidden": false
    }
   },
   "outputs": [
    {
     "data": {
      "text/plain": [
       "True"
      ]
     },
     "execution_count": 60,
     "metadata": {},
     "output_type": "execute_result"
    }
   ],
   "source": [
    "x = 2 \n",
    "1 < x <= 3"
   ]
  },
  {
   "cell_type": "markdown",
   "metadata": {},
   "source": [
    "### 常见的数学函数\n",
    "\n",
    "绝对值："
   ]
  },
  {
   "cell_type": "code",
   "execution_count": null,
   "metadata": {},
   "outputs": [],
   "source": [
    "abs(-12.4)"
   ]
  },
  {
   "cell_type": "markdown",
   "metadata": {},
   "source": [
    "保留小数点位数:"
   ]
  },
  {
   "cell_type": "code",
   "execution_count": null,
   "metadata": {},
   "outputs": [],
   "source": [
    "round(21.6445, 2)"
   ]
  },
  {
   "cell_type": "markdown",
   "metadata": {},
   "source": [
    "最大最小值："
   ]
  },
  {
   "cell_type": "code",
   "execution_count": null,
   "metadata": {},
   "outputs": [],
   "source": [
    "print(min(2, 3, 4, 5))\n",
    "print(max(2, 4, 3))"
   ]
  },
  {
   "cell_type": "markdown",
   "metadata": {},
   "source": [
    "### 类型转换  \n",
    "浮点数转整型，只保留整数部分："
   ]
  },
  {
   "cell_type": "code",
   "execution_count": null,
   "metadata": {},
   "outputs": [],
   "source": [
    "print(int(-3.32))"
   ]
  },
  {
   "cell_type": "markdown",
   "metadata": {},
   "source": [
    "整型转浮点型："
   ]
  },
  {
   "cell_type": "code",
   "execution_count": null,
   "metadata": {},
   "outputs": [],
   "source": [
    "print(float(1))"
   ]
  },
  {
   "cell_type": "markdown",
   "metadata": {},
   "source": [
    "数值型转字符串："
   ]
  },
  {
   "cell_type": "code",
   "execution_count": null,
   "metadata": {},
   "outputs": [],
   "source": [
    "str(1)"
   ]
  },
  {
   "cell_type": "markdown",
   "metadata": {},
   "source": [
    "字符串转数字型："
   ]
  },
  {
   "cell_type": "code",
   "execution_count": null,
   "metadata": {},
   "outputs": [],
   "source": [
    "int('1')"
   ]
  },
  {
   "cell_type": "markdown",
   "metadata": {},
   "source": [
    " "
   ]
  },
  {
   "cell_type": "markdown",
   "metadata": {},
   "source": [
    " "
   ]
  },
  {
   "cell_type": "markdown",
   "metadata": {},
   "source": [
    "### 练习python的变量和赋值语句的使用\n",
    "三个人在餐厅吃饭，共花费210元，他们还想留15%的小费。打印一句话显示每人该付多少钱？"
   ]
  },
  {
   "cell_type": "code",
   "execution_count": 4,
   "metadata": {},
   "outputs": [],
   "source": [
    "#code here\n",
    "\n",
    "\n",
    "\n",
    "\n"
   ]
  },
  {
   "cell_type": "code",
   "execution_count": null,
   "metadata": {},
   "outputs": [],
   "source": []
  },
  {
   "cell_type": "markdown",
   "metadata": {},
   "source": [
    "## 1.3 数据类型2\n",
    "现在，我们将对字符串、列表、字典进行介绍\n",
    "\n",
    "| 类型| 例子|\n",
    "| -----  | ----- |\n",
    "| 整数 | `-100` |\n",
    "| 浮点数 | `3.1416` |\n",
    "| 字符串 | `'hello'` |\n",
    "| 列表 | `[1, 1.2, 'hello']` |\n",
    "| 字典 | `{'dogs': 5, 'pigs': 3}`|\n",
    "| 布尔型 | `True, False`"
   ]
  },
  {
   "cell_type": "markdown",
   "metadata": {},
   "source": [
    "## 1.4 字符串"
   ]
  },
  {
   "cell_type": "markdown",
   "metadata": {},
   "source": [
    "使用一对单引号`' '`或者双引号`\" \"`生成字符串，从专业角度来讲，更推荐使用单引号。"
   ]
  },
  {
   "cell_type": "code",
   "execution_count": null,
   "metadata": {},
   "outputs": [],
   "source": [
    "s = \"hello, world\"\n",
    "print(s)\n",
    "\n",
    "s = 'hello, world'\n",
    "print(s)"
   ]
  },
  {
   "cell_type": "markdown",
   "metadata": {},
   "source": [
    "### 常见的操作\n",
    "\n",
    "**加法**："
   ]
  },
  {
   "cell_type": "code",
   "execution_count": null,
   "metadata": {},
   "outputs": [],
   "source": [
    "a = 'hello'\n",
    "b = 'world'\n",
    "a + b"
   ]
  },
  {
   "cell_type": "markdown",
   "metadata": {},
   "source": [
    "**乘法**："
   ]
  },
  {
   "cell_type": "code",
   "execution_count": null,
   "metadata": {},
   "outputs": [],
   "source": [
    "c = a * 3\n",
    "c"
   ]
  },
  {
   "cell_type": "markdown",
   "metadata": {},
   "source": [
    "**字符串的长度**："
   ]
  },
  {
   "cell_type": "code",
   "execution_count": null,
   "metadata": {},
   "outputs": [],
   "source": [
    "len(s)"
   ]
  },
  {
   "cell_type": "markdown",
   "metadata": {},
   "source": [
    "### 字符串方法"
   ]
  },
  {
   "cell_type": "markdown",
   "metadata": {},
   "source": [
    "**Python**是一种面向对象的语言，面向对象的语言中一个必不可少的元素就是方法，而字符串是对象的一种，所以有很多可用的方法。\n",
    "\n",
    "跟很多语言一样，**Python**使用以下形式来调用方法：\n",
    "\n",
    "    对象.方法(参数)"
   ]
  },
  {
   "cell_type": "markdown",
   "metadata": {},
   "source": [
    "**分割**:  \n",
    "`s.split()` 将字符串 s 按照空格（包括多个空格，制表符`\\t`，换行符`\\n`等）分割，并返回所有分割得到的字符串。"
   ]
  },
  {
   "cell_type": "code",
   "execution_count": null,
   "metadata": {},
   "outputs": [],
   "source": [
    "line = \"1 2 3 4  5\"\n",
    "numbers = line.split()\n",
    "print(numbers)\n",
    "type(numbers)"
   ]
  },
  {
   "cell_type": "markdown",
   "metadata": {},
   "source": [
    "**连接**：  \n",
    "与分割相反，`s.join(sequence)` 的作用是以 `s` 为连接符将序列 `sequence` 中的元素连接起来，并返回连接后得到的新字符串。\n"
   ]
  },
  {
   "cell_type": "code",
   "execution_count": null,
   "metadata": {},
   "outputs": [],
   "source": [
    "s = ' '\n",
    "s.join(numbers)"
   ]
  },
  {
   "cell_type": "markdown",
   "metadata": {},
   "source": [
    "**替换**：  \n",
    "`s.replace(part1, part2)` 将字符串 `s` 中指定的部分 `part1` 替换成想要的部分 `part2`，并返回新的字符串。"
   ]
  },
  {
   "cell_type": "code",
   "execution_count": null,
   "metadata": {},
   "outputs": [],
   "source": [
    "s = \"hello world\"\n",
    "s.replace('world', 'python')"
   ]
  },
  {
   "cell_type": "markdown",
   "metadata": {},
   "source": [
    "**大小写转换**：  \n",
    "\n",
    "`s.upper()` 方法返回一个将 `s` 中的字母全部大写的新字符串。\n",
    "\n",
    "`s.lower()` 方法返回一个将 `s` 中的字母全部小写的新字符串。"
   ]
  },
  {
   "cell_type": "code",
   "execution_count": null,
   "metadata": {},
   "outputs": [],
   "source": [
    "\"hello world\".upper()"
   ]
  },
  {
   "cell_type": "code",
   "execution_count": null,
   "metadata": {},
   "outputs": [],
   "source": [
    "s = \"HELLO WORLD\"\n",
    "print(s.lower())\n",
    "\n",
    "# 不会改变原来s的值\n",
    "print(s)"
   ]
  },
  {
   "cell_type": "markdown",
   "metadata": {},
   "source": [
    "## 1.5索引和切片\n",
    "\n",
    "### 索引\n",
    "\n",
    "对于一个有序序列，可以通过索引的方法来访问对应位置的值。字符串便是一个有序序列，**Python** 使用 **下标** 来对有序序列进行索引。索引是从 `0` 开始的，所以索引 `0` 对应与序列的第 `1` 个元素。"
   ]
  },
  {
   "cell_type": "code",
   "execution_count": null,
   "metadata": {},
   "outputs": [],
   "source": [
    "s = \"hello\"\n",
    "s[0]"
   ]
  },
  {
   "cell_type": "markdown",
   "metadata": {},
   "source": [
    "除了正向索引，**Python** 还引入了负索引值的用法，即从后向前开始计数，例如，索引 `-1` 表示倒数第 `1` 个元素："
   ]
  },
  {
   "cell_type": "code",
   "execution_count": null,
   "metadata": {},
   "outputs": [],
   "source": [
    "s[-1]"
   ]
  },
  {
   "cell_type": "markdown",
   "metadata": {},
   "source": [
    "单个索引大于等于字符串的长度时，会报错："
   ]
  },
  {
   "cell_type": "code",
   "execution_count": null,
   "metadata": {},
   "outputs": [],
   "source": [
    "s[6]"
   ]
  },
  {
   "cell_type": "markdown",
   "metadata": {},
   "source": [
    "### 切片  \n",
    "\n",
    "切片用来从序列中提取出想要的子序列，其用法为：  \n",
    "\n",
    "    var[start:  stop:  step]  \n",
    "\n",
    "其范围包括 `start` ，但不包括 `stop` ，即 `[start_index, stop_index)`， `step` 表示取值间隔大小，如果没有默认为`1`。  第三个冒号可省略。"
   ]
  },
  {
   "cell_type": "code",
   "execution_count": 22,
   "metadata": {},
   "outputs": [
    {
     "data": {
      "text/plain": [
       "'hlo'"
      ]
     },
     "execution_count": 22,
     "metadata": {},
     "output_type": "execute_result"
    }
   ],
   "source": [
    "s = \"hello\"\n",
    "s[::2]"
   ]
  },
  {
   "cell_type": "code",
   "execution_count": 21,
   "metadata": {},
   "outputs": [
    {
     "data": {
      "text/plain": [
       "'he'"
      ]
     },
     "execution_count": 21,
     "metadata": {},
     "output_type": "execute_result"
    }
   ],
   "source": [
    "s = \"hello\"\n",
    "s[:2]"
   ]
  },
  {
   "cell_type": "code",
   "execution_count": 24,
   "metadata": {},
   "outputs": [
    {
     "data": {
      "text/plain": [
       "'ell'"
      ]
     },
     "execution_count": 24,
     "metadata": {},
     "output_type": "execute_result"
    }
   ],
   "source": [
    "s = \"hello\"\n",
    "s[-4:-1]"
   ]
  },
  {
   "cell_type": "markdown",
   "metadata": {},
   "source": [
    "## 1.6 列表\n",
    "\n",
    "列表是一个有序的序列。\n",
    "\n",
    "列表用一对 `[ ]` 生成，中间的元素用 `,` 隔开，其中的元素不需要是同一类型，同时列表的长度也不固定。"
   ]
  },
  {
   "cell_type": "code",
   "execution_count": null,
   "metadata": {},
   "outputs": [],
   "source": [
    "l = [1, 2.0, 'hello']\n",
    "print(l)"
   ]
  },
  {
   "cell_type": "markdown",
   "metadata": {},
   "source": [
    "空列表可以用 `[]` 或者 `list()` 生成："
   ]
  },
  {
   "cell_type": "code",
   "execution_count": null,
   "metadata": {},
   "outputs": [],
   "source": [
    "empty_list = []\n",
    "empty_list"
   ]
  },
  {
   "cell_type": "code",
   "execution_count": null,
   "metadata": {},
   "outputs": [],
   "source": [
    "empty_list = list()\n",
    "empty_list\n"
   ]
  },
  {
   "cell_type": "markdown",
   "metadata": {},
   "source": [
    "### 列表的常见操作\n",
    "\n",
    " **长度**：用 `len` 查看列表长度"
   ]
  },
  {
   "cell_type": "code",
   "execution_count": null,
   "metadata": {},
   "outputs": [],
   "source": [
    "l = [1, 2.0, 'hello']\n",
    "len(l)"
   ]
  },
  {
   "cell_type": "markdown",
   "metadata": {},
   "source": [
    "**加法**: 相当于将两个列表按顺序连接"
   ]
  },
  {
   "cell_type": "code",
   "execution_count": null,
   "metadata": {},
   "outputs": [],
   "source": [
    "a = [1, 2, 3]\n",
    "b = [3.2, 'hello']\n",
    "a + b"
   ]
  },
  {
   "cell_type": "markdown",
   "metadata": {},
   "source": [
    "**乘法**：列表与整数相乘，相当于将列表重复相加"
   ]
  },
  {
   "cell_type": "code",
   "execution_count": null,
   "metadata": {},
   "outputs": [],
   "source": [
    "a * 3"
   ]
  },
  {
   "cell_type": "markdown",
   "metadata": {},
   "source": [
    "###  索引和分片\n",
    "列表和字符串一样可以通过索引和分片来查看它的元素。"
   ]
  },
  {
   "cell_type": "markdown",
   "metadata": {},
   "source": [
    "**索引**："
   ]
  },
  {
   "cell_type": "code",
   "execution_count": null,
   "metadata": {},
   "outputs": [],
   "source": [
    "a = [10, 11, 12, 13, 14]\n",
    "a[0]"
   ]
  },
  {
   "cell_type": "markdown",
   "metadata": {},
   "source": [
    "**反向索引**："
   ]
  },
  {
   "cell_type": "code",
   "execution_count": null,
   "metadata": {},
   "outputs": [],
   "source": [
    "a[-1]"
   ]
  },
  {
   "cell_type": "markdown",
   "metadata": {},
   "source": [
    "**分片**："
   ]
  },
  {
   "cell_type": "code",
   "execution_count": null,
   "metadata": {},
   "outputs": [],
   "source": [
    "a[2:-1]"
   ]
  },
  {
   "cell_type": "markdown",
   "metadata": {},
   "source": [
    "### **添加元素**\n",
    "\n",
    "**append**：向列表添加单个元素  \n",
    "`l.append(ob)` 将元素 `ob` 添加到列表 `l` 的最后。"
   ]
  },
  {
   "cell_type": "code",
   "execution_count": null,
   "metadata": {},
   "outputs": [],
   "source": [
    "a = [10, 11, 12]\n",
    "a.append(11)\n",
    "print(a)"
   ]
  },
  {
   "cell_type": "markdown",
   "metadata": {},
   "source": [
    "`append` 每次只添加一个元素，并不会因为这个元素是序列而将其展开："
   ]
  },
  {
   "cell_type": "code",
   "execution_count": null,
   "metadata": {},
   "outputs": [],
   "source": [
    "a = [10, 11, 12]\n",
    "a.append(['a', 'b'])\n",
    "print(a)"
   ]
  },
  {
   "cell_type": "markdown",
   "metadata": {},
   "source": [
    "**extend**: 向列表添加序列元素    \n",
    "`l.extend(lst)` 将序列 `lst` 的元素依次添加到列表 `l` 的最后，作用相当于 `l += lst`。"
   ]
  },
  {
   "cell_type": "code",
   "execution_count": null,
   "metadata": {},
   "outputs": [],
   "source": [
    "a = [10, 11, 12]\n",
    "a.extend(['a', 'b'])\n",
    "print(a)"
   ]
  },
  {
   "cell_type": "markdown",
   "metadata": {},
   "source": [
    "**insert**: 插入元素       \n",
    "`l.insert(idx, ob)` 在索引 `idx` 处插入 `ob` ，之后的元素依次后移。"
   ]
  },
  {
   "cell_type": "code",
   "execution_count": null,
   "metadata": {},
   "outputs": [],
   "source": [
    "a = [10, 11, 12, 13, 11]\n",
    "# 在索引 3 插入 'a'\n",
    "a.insert(3, 'a')\n",
    "print(a)"
   ]
  },
  {
   "cell_type": "markdown",
   "metadata": {},
   "source": [
    "### **删除元素** "
   ]
  },
  {
   "cell_type": "markdown",
   "metadata": {},
   "source": [
    "**del**：根据下标进行删除"
   ]
  },
  {
   "cell_type": "code",
   "execution_count": null,
   "metadata": {},
   "outputs": [],
   "source": [
    "# 根据下标进行删除\n",
    "a = [1002, 'a', 'b', 'c']\n",
    "del a[0]\n",
    "print(a)"
   ]
  },
  {
   "cell_type": "markdown",
   "metadata": {},
   "source": [
    "**pop**：弹出元素    \n",
    "`l.pop(idx)` 会将索引 `idx` 处的元素删除，并返回这个元素。未指定 `idx` 时，默认为列表最后一个元素。"
   ]
  },
  {
   "cell_type": "code",
   "execution_count": null,
   "metadata": {},
   "outputs": [],
   "source": [
    "a = [1002, 'a', 'b', 'c']\n",
    "a.pop()\n",
    "print(a)"
   ]
  },
  {
   "cell_type": "markdown",
   "metadata": {},
   "source": [
    "**remove**：根据元素的值进行删除     \n",
    "`l.remove(ob)` 会将列表中第一个出现的 `ob` 删除，如果 `ob` 不在 `l` 中会报错。"
   ]
  },
  {
   "cell_type": "code",
   "execution_count": null,
   "metadata": {},
   "outputs": [],
   "source": [
    "a = [1002, 'a', 'b', 'c', 'b']\n",
    "a.remove(\"b\")\n",
    "print(a)"
   ]
  },
  {
   "cell_type": "markdown",
   "metadata": {},
   "source": [
    "### **测试从属关系**\n",
    "用 `in` 来看某个元素是否在某个序列（不仅仅是列表）中；\n",
    "\n",
    "用`not in`来判断是否不在某个序列中。"
   ]
  },
  {
   "cell_type": "code",
   "execution_count": null,
   "metadata": {},
   "outputs": [],
   "source": [
    "a = [10, 11, 12, 13, 11]\n",
    "print(10 in a)\n",
    "print(10 not in a)"
   ]
  },
  {
   "cell_type": "markdown",
   "metadata": {},
   "source": [
    "用 `index` 查找某个元素在列表中的位置：\n",
    "\n",
    "`l.index(ob)` 返回列表中元素 `ob` 第一次出现的索引位置，如果 `ob` 不在 `l` 中会报错。"
   ]
  },
  {
   "cell_type": "code",
   "execution_count": null,
   "metadata": {},
   "outputs": [],
   "source": [
    "a = [10, 11, 12, 13, 11]\n",
    "a.index(11)"
   ]
  },
  {
   "cell_type": "markdown",
   "metadata": {},
   "source": [
    "`count` 查找列表中某个元素出现的次数："
   ]
  },
  {
   "cell_type": "code",
   "execution_count": null,
   "metadata": {},
   "outputs": [],
   "source": [
    "a = [10, 11, 12, 13, 11]\n",
    "a.count(11)"
   ]
  },
  {
   "cell_type": "markdown",
   "metadata": {},
   "source": [
    "### **修改元素**  \n",
    "\n",
    "修改元素的时候，要通过下标来确定要修改的是哪个元素，然后才能进行修改"
   ]
  },
  {
   "cell_type": "code",
   "execution_count": null,
   "metadata": {},
   "outputs": [],
   "source": [
    "a = [10, 11, 12, 13, 11]\n",
    "a[0] = \"a\"\n",
    "a"
   ]
  },
  {
   "cell_type": "markdown",
   "metadata": {},
   "source": [
    "### **排序**"
   ]
  },
  {
   "cell_type": "markdown",
   "metadata": {},
   "source": [
    "`sort`方法将 `list` 按特定顺序重新排列，默认为由小到大，参数 `reverse=True` 可改为倒序，由大到小"
   ]
  },
  {
   "cell_type": "code",
   "execution_count": null,
   "metadata": {},
   "outputs": [],
   "source": [
    "# 从小到大排序\n",
    "a = [10, 1, 11, 13, 11, 2]\n",
    "a.sort()\n",
    "print(a)"
   ]
  },
  {
   "cell_type": "code",
   "execution_count": null,
   "metadata": {},
   "outputs": [],
   "source": [
    "# 从大到小排序\n",
    "a = [10, 1, 11, 13, 11, 2]\n",
    "a.sort(reverse=True)\n",
    "print(a)"
   ]
  },
  {
   "cell_type": "markdown",
   "metadata": {},
   "source": [
    "如果不想改变原来列表中的值，可以使用 `sorted` 函数："
   ]
  },
  {
   "cell_type": "code",
   "execution_count": null,
   "metadata": {},
   "outputs": [],
   "source": [
    "a = [10, 1, 11, 13, 11, 2]\n",
    "b = sorted(a)\n",
    "print(\"a:\",a)\n",
    "print(\"b:\",b)"
   ]
  },
  {
   "cell_type": "markdown",
   "metadata": {},
   "source": [
    "### 列表反向"
   ]
  },
  {
   "cell_type": "markdown",
   "metadata": {},
   "source": [
    "`l.reverse()` 会将列表中的元素从后向前排列。"
   ]
  },
  {
   "cell_type": "code",
   "execution_count": null,
   "metadata": {},
   "outputs": [],
   "source": [
    "a = [10, 1, 11, 13, 11, 2]\n",
    "a.reverse()\n",
    "print(a)"
   ]
  },
  {
   "cell_type": "markdown",
   "metadata": {},
   "source": [
    "如果不想改变原来列表中的值，可以使用分片："
   ]
  },
  {
   "cell_type": "code",
   "execution_count": null,
   "metadata": {},
   "outputs": [],
   "source": [
    "a = [10, 1, 11, 13, 11, 2]\n",
    "b = a[::-1]\n",
    "print(\"a:\",a)\n",
    "print(\"b:\",b)"
   ]
  },
  {
   "cell_type": "markdown",
   "metadata": {},
   "source": [
    "## 1.7 字典\n",
    "\n",
    "字典 `dictionary` ，在一些编程语言中也称为 `hash` ， `map` ，是一种由键值对组成的数据结构。\n",
    "\n",
    "顾名思义，我们把键想象成字典中的单词，值想象成词对应的定义，那么——\n",
    "\n",
    "一个词可以对应一个或者多个定义，但是这些定义只能通过这个词来进行查询。\n",
    "\n",
    "**Python** 使用`key: value`这样的结构来表示字典中的元素结构。"
   ]
  },
  {
   "cell_type": "markdown",
   "metadata": {},
   "source": [
    "### 空字典\n",
    "\n",
    "**Python** 使用 `{}` 或者 `dict()` 来创建一个空的字典："
   ]
  },
  {
   "cell_type": "code",
   "execution_count": null,
   "metadata": {},
   "outputs": [],
   "source": [
    "a = {}\n",
    "type(a)"
   ]
  },
  {
   "cell_type": "code",
   "execution_count": null,
   "metadata": {},
   "outputs": [],
   "source": [
    "a = dict()\n",
    "type(a)"
   ]
  },
  {
   "cell_type": "markdown",
   "metadata": {},
   "source": [
    "### 插入键值"
   ]
  },
  {
   "cell_type": "code",
   "execution_count": null,
   "metadata": {},
   "outputs": [],
   "source": [
    "a[\"one\"] = \"this is number 1\"\n",
    "a[\"two\"] = \"this is number 2\"\n",
    "a[\"three\"] = \"this is number 3\"\n",
    "a"
   ]
  },
  {
   "cell_type": "markdown",
   "metadata": {},
   "source": [
    "**注意：**  \n",
    "1.字典的键必须是数字、字符串、元组等，不能是列表、字典、集合。  \n",
    "2.字典没有顺序：当我们 `print` 一个字典时，**Python** 并不一定按照插入键值的先后顺序进行显示，因为字典中的键本身不一定是有序的。"
   ]
  },
  {
   "cell_type": "code",
   "execution_count": null,
   "metadata": {},
   "outputs": [],
   "source": [
    "# 查看键值\n",
    "a['one']"
   ]
  },
  {
   "cell_type": "markdown",
   "metadata": {},
   "source": [
    "### 更新键值"
   ]
  },
  {
   "cell_type": "code",
   "execution_count": null,
   "metadata": {},
   "outputs": [],
   "source": [
    "a[\"one\"] = \"this is number 1, too\"\n",
    "a"
   ]
  },
  {
   "cell_type": "markdown",
   "metadata": {},
   "source": [
    "### `get`方法"
   ]
  },
  {
   "cell_type": "markdown",
   "metadata": {},
   "source": [
    "用键可以找到该键对应的值，但是当字典中没有这个键的时候，**Python** 会报错，这时候可以使用字典的 `get` 方法来处理这种情况，其用法如下：\n",
    "\n",
    "`d.get(key, default = None)`\n",
    "\n",
    "返回字典中键 `key` 对应的值，如果没有这个键，返回 `default` 指定的值（默认是 `None` ）。"
   ]
  },
  {
   "cell_type": "code",
   "execution_count": null,
   "metadata": {},
   "outputs": [],
   "source": [
    "a = {}\n",
    "a[\"one\"] = \"this is number 1\"\n",
    "a[\"two\"] = \"this is number 2\"\n",
    "\n",
    "a.get(\"three\", \"undefined\")"
   ]
  },
  {
   "cell_type": "markdown",
   "metadata": {},
   "source": [
    "### `keys` 方法，`values` 方法和`items` 方法"
   ]
  },
  {
   "cell_type": "markdown",
   "metadata": {},
   "source": [
    "`d.keys()` ：返回一个由所有键组成的列表；\n",
    "\n",
    "`d.values()` ：返回一个由所有值组成的列表；\n",
    "\n",
    "`d.items()` ：返回一个由所有键值对元组组成的列表。"
   ]
  },
  {
   "cell_type": "code",
   "execution_count": null,
   "metadata": {},
   "outputs": [],
   "source": [
    "a = {}\n",
    "a[\"one\"] = \"this is number 1\"\n",
    "a[\"two\"] = \"this is number 2\"\n",
    "\n",
    "a.keys()"
   ]
  },
  {
   "cell_type": "code",
   "execution_count": null,
   "metadata": {},
   "outputs": [],
   "source": [
    "a.values()"
   ]
  },
  {
   "cell_type": "code",
   "execution_count": null,
   "metadata": {},
   "outputs": [],
   "source": [
    "a.items()"
   ]
  },
  {
   "cell_type": "markdown",
   "metadata": {},
   "source": [
    "## 1.8 元组\n",
    "\n",
    "元组`Tuple`也是个有序序列，但是元组是不可变的，用`()`生成。\n",
    "\n",
    "由于元组不是教材要求的内容，这里不做过多讨论。\n",
    "\n",
    "需要注意的是，同学们偶尔会将列表或字典的符号记混，`()`在两边的是元组类型，`[]`对应列表类型，`{}`对应字典类型。"
   ]
  },
  {
   "cell_type": "code",
   "execution_count": 12,
   "metadata": {},
   "outputs": [
    {
     "name": "stdout",
     "output_type": "stream",
     "text": [
      "<class 'tuple'>\n",
      "<class 'tuple'>\n"
     ]
    }
   ],
   "source": [
    "# 生成元组\n",
    "a = ()\n",
    "b = (1,2,3)\n",
    "print(type(a))\n",
    "print(type(b))"
   ]
  },
  {
   "cell_type": "markdown",
   "metadata": {},
   "source": [
    " "
   ]
  },
  {
   "cell_type": "markdown",
   "metadata": {},
   "source": [
    " "
   ]
  },
  {
   "cell_type": "markdown",
   "metadata": {},
   "source": [
    "## 2.1 第三方库（模块 Module）"
   ]
  },
  {
   "cell_type": "markdown",
   "metadata": {},
   "source": [
    "Python中使用`import`关键词来导入模块也就是第三方库。这些外部资源需要使用pip工具预先下载，再在代码中用import语句调用。"
   ]
  },
  {
   "cell_type": "markdown",
   "metadata": {},
   "source": [
    "## 准备工作 ： 安装第三方库\n",
    "\n",
    "pip工具是专门用于管理第三方库的工具，常用的功能有：`pip list`(查看已安装的第三方库) `pip install 库名`(安装库) \n",
    "\n",
    "原本pip命令应该被放在CMD（命令提示符）中使用，但我们也库以使用os库中的system命令来直接在代码中安装第三方库。\n",
    "\n",
    "不了解cmd的同学可以直接执行下方代码，体验第三方库的使用"
   ]
  },
  {
   "cell_type": "markdown",
   "metadata": {},
   "source": [
    "### 代码1：配置下载地址\n",
    "\n",
    "导入os库，模拟在命令提示符中输入代码，括号中的字符串即为我们输入的命令\n",
    "\n",
    "这条代码的作用是 **“在CMD中输入括号中的代码，并在当前界面输出”**\n",
    "\n",
    "而代码的作用为修改pip工具的下载地址，大幅提升下载速度。"
   ]
  },
  {
   "cell_type": "code",
   "execution_count": null,
   "metadata": {},
   "outputs": [],
   "source": [
    "import os\n",
    "os.popen('pip config set global.index-url https://pypi.tuna.tsinghua.edu.cn/simple').read()"
   ]
  },
  {
   "cell_type": "markdown",
   "metadata": {},
   "source": [
    "### 代码2：查看电脑中已经安装的第三方库。\n",
    "\n",
    "使用了pip list命令\n"
   ]
  },
  {
   "cell_type": "code",
   "execution_count": null,
   "metadata": {},
   "outputs": [],
   "source": [
    "os.popen('pip list').read()"
   ]
  },
  {
   "cell_type": "markdown",
   "metadata": {},
   "source": [
    "### 代码3：安装qrcode库，这个库可以生成二维码，在这里仅作体验用。\n",
    "\n",
    "由于我们在上方已经导入过os库，所以这里不需要再重新导入。在安装时，会看到各种提示，例如`Successfully installed`代表安装成功，`Requirement already satisfied`代表库已安装，`Read time out`代表安装超时，需要重新安装。"
   ]
  },
  {
   "cell_type": "code",
   "execution_count": null,
   "metadata": {},
   "outputs": [],
   "source": [
    "os.popen('pip install qrcode').read()"
   ]
  },
  {
   "cell_type": "markdown",
   "metadata": {},
   "source": [
    "### 代码4：导入qrcode库，在代码目录下生成一张图片'qrcode.jpg'\n",
    "\n",
    "在目录中找到这张图片，并试着把它上传到解析网站进行识别。\n",
    "\n",
    "[二维码识别网站](https://cli.im/deqr)"
   ]
  },
  {
   "cell_type": "code",
   "execution_count": 23,
   "metadata": {},
   "outputs": [],
   "source": [
    "import qrcode\n",
    "img = qrcode.make('吃饭了')\n",
    "img.save('qrcode.jpg')"
   ]
  },
  {
   "cell_type": "markdown",
   "metadata": {},
   "source": [
    "### turtle海龟库\n",
    "\n",
    "| 代码| 作用|\n",
    "| -----  | ----- |\n",
    "`turtle.forward(长度) `  |(前进)|\n",
    "`turtle.right(角度) ` | (右转)|\n",
    "`turtle.left(角度) ` |(左转)|\n",
    "`turtle.seth(-40)`   |(转向特定方向)|\n",
    "`turtle.circle(半径,起始角度，结束角度)` |(画圆，后面两个参数可以不加)|\n",
    "`turtle.penup()` |(提笔)|\n",
    "`turtle.pendown()` |(落笔)|\n",
    "`turtle.done()`|(语句结束)\n"
   ]
  },
  {
   "cell_type": "code",
   "execution_count": 24,
   "metadata": {},
   "outputs": [],
   "source": [
    "import turtle\n",
    "turtle.forward(100)\n",
    "turtle.left(90)\n",
    "turtle.done()"
   ]
  },
  {
   "cell_type": "markdown",
   "metadata": {},
   "source": [
    "### 试着修改下方这条完整的代码中的各种参数，弄清楚每条代码的作用"
   ]
  },
  {
   "cell_type": "code",
   "execution_count": null,
   "metadata": {
    "jupyter": {
     "source_hidden": true
    },
    "tags": []
   },
   "outputs": [],
   "source": [
    "import turtle\n",
    "\n",
    "turtle.setup(650, 350)\n",
    "\n",
    "turtle.penup()\n",
    "turtle.forward(-250)\n",
    "turtle.pendown()\n",
    "turtle.pensize(25)\n",
    "turtle.pencolor(\"purple\")\n",
    "turtle.seth(-40)\n",
    "\n",
    "turtle.circle(40, 80)\n",
    "turtle.circle(-40, 80)\n",
    "turtle.circle(40, 80)\n",
    "turtle.circle(-40, 80)\n",
    "turtle.circle(40, 80)\n",
    "turtle.circle(-40, 80)\n",
    "turtle.circle(40, 80)\n",
    "turtle.circle(-40, 80)\n",
    "    \n",
    "turtle.circle(40, 80/2)\n",
    "turtle.forward(40)\n",
    "turtle.circle(16, 180)\n",
    "turtle.forward(40 * 2/3)\n",
    "\n",
    "turtle.done()\n"
   ]
  },
  {
   "cell_type": "markdown",
   "metadata": {},
   "source": [
    "### 任务\n",
    "\n",
    "画出三角形、矩形、平行四边形"
   ]
  },
  {
   "cell_type": "code",
   "execution_count": null,
   "metadata": {},
   "outputs": [],
   "source": []
  },
  {
   "cell_type": "code",
   "execution_count": null,
   "metadata": {},
   "outputs": [],
   "source": []
  },
  {
   "cell_type": "code",
   "execution_count": null,
   "metadata": {},
   "outputs": [],
   "source": []
  },
  {
   "cell_type": "markdown",
   "metadata": {},
   "source": [
    "### 总结\n",
    "第三方库功能强大，我们可以使用它完成诸多功能，几乎所有你能想到的事情，都已经有人写好了库供你使用。\n",
    "\n",
    "库的几种导入方法（以turtle为例）\n",
    "\n",
    "| 导入代码| 使用函数|\n",
    "| -----  | ----- |\n",
    "**import turtle**| **turtle.forward()**|\n",
    "**import turtle as t**| **t.forward()**|\n",
    "from turtle import forward| forward()|\n",
    "from turtle import * |forward()|\n",
    "\n",
    "主要掌握前面两种，第四种和第三种的差别在于，第三种只从库中拿了一种函数，而第四种拿出了全部函数。\n"
   ]
  },
  {
   "cell_type": "markdown",
   "metadata": {},
   "source": [
    "## 3.1 判断语句"
   ]
  },
  {
   "cell_type": "markdown",
   "metadata": {},
   "source": [
    "### 基本用法\n",
    "\n",
    "判断，基于一定的条件，决定是否要执行特定的一段代码，例如判断一个数是不是正数："
   ]
  },
  {
   "cell_type": "code",
   "execution_count": null,
   "metadata": {},
   "outputs": [],
   "source": [
    "x = 0.5\n",
    "if x > 0:\n",
    "    print(\"Hey!\")\n",
    "    print(\"x is positive\")"
   ]
  },
  {
   "cell_type": "markdown",
   "metadata": {},
   "source": [
    "在这里，如果 `x > 0` 为 `False`即`x ≤ 0` ，那么程序将不会执行两条 `print` 语句。\n",
    "\n",
    "虽然都是用 `if` 关键词定义判断，但与 **C，Java** 等语言不同，**Python**不使用 `{}` 将 `if` 语句控制的区域包含起来。**Python** 使用的是缩进方法。同时，也不需要用 `()` 将判断条件括起来。\n",
    "\n",
    "上面例子中的这两条语句：\n",
    "\n",
    "```python\n",
    "\n",
    "print(\"Hey!\")   \n",
    "print(\"x is positive\")\n",
    "\n",
    "```\n",
    "\n",
    "就叫做一个代码块，同一个代码块使用同样的缩进值，它们组成了这条 `if` 语句的主体。\n",
    "\n",
    "不同的缩进值表示不同的代码块，例如：\n",
    "\n",
    "`x > 0` 时："
   ]
  },
  {
   "cell_type": "code",
   "execution_count": null,
   "metadata": {},
   "outputs": [],
   "source": [
    "x = 0.5\n",
    "if x > 0:\n",
    "    print(\"x is positive\")\n",
    "print(\"This isn't part of the block, and will always print.\")"
   ]
  },
  {
   "cell_type": "markdown",
   "metadata": {},
   "source": [
    "`x < 0` 时："
   ]
  },
  {
   "cell_type": "code",
   "execution_count": null,
   "metadata": {},
   "outputs": [],
   "source": [
    "x = -0.5\n",
    "if x > 0:\n",
    "    print(\"x is positive\")\n",
    "print(\"This isn't part of the block, and will always print.\")"
   ]
  },
  {
   "cell_type": "markdown",
   "metadata": {},
   "source": [
    "在这两个例子中，最后一句并不是 `if` 语句中的内容，所以不管条件满不满足，它都会被执行。\n",
    "\n",
    "一个完整的 `if` 结构通常如下所示（注意：条件后的 `:` 是必须要的，缩进值需要一样）：\n",
    "    \n",
    "    if <condition 1>:\n",
    "        <statement 1>\n",
    "        <statement 2>\n",
    "    elif <condition 2>: \n",
    "        <statements>\n",
    "    else:\n",
    "        <statements>\n",
    "\n",
    "当条件 1 被满足时，执行 `if` 下面的语句，当条件 1 不满足的时候，转到 `elif` ，看它的条件 2 满不满足，满足执行 `elif` 下面的语句，不满足则执行 `else` 下面的语句。\n",
    "\n",
    "对于上面的例子进行扩展："
   ]
  },
  {
   "cell_type": "code",
   "execution_count": null,
   "metadata": {},
   "outputs": [],
   "source": [
    "x = 0\n",
    "if x > 0:\n",
    "    print(\"x is positive\")\n",
    "elif x == 0:\n",
    "    print(\"x is zero\")\n",
    "else:\n",
    "    print(\"x is negative\")\n"
   ]
  },
  {
   "cell_type": "markdown",
   "metadata": {},
   "source": [
    "`elif` 的个数没有限制，可以是1个或者多个，也可以没有。\n",
    "\n",
    "`else` 最多只有1个，也可以没有。\n",
    "\n",
    "可以使用 `and` ， `or` ， `not` 等关键词结合多个判断条件："
   ]
  },
  {
   "cell_type": "code",
   "execution_count": null,
   "metadata": {},
   "outputs": [],
   "source": [
    "x = 10\n",
    "y = -5\n",
    "x > 0 and y < 0"
   ]
  },
  {
   "cell_type": "code",
   "execution_count": null,
   "metadata": {},
   "outputs": [],
   "source": [
    "not x > 0"
   ]
  },
  {
   "cell_type": "code",
   "execution_count": null,
   "metadata": {},
   "outputs": [],
   "source": [
    "x < 0 or y < 0"
   ]
  },
  {
   "cell_type": "markdown",
   "metadata": {},
   "source": [
    "这里使用这个简单的例子，假如想判断一个年份是不是闰年，按照闰年的定义，这里只需要判断这个年份是不是能被 `4` 整除，但是不能被 `100` 整除，或者正好被 `400` 整除："
   ]
  },
  {
   "cell_type": "code",
   "execution_count": null,
   "metadata": {},
   "outputs": [],
   "source": [
    "year = 1900\n",
    "if year % 400 == 0:\n",
    "    print(\"This is a leap year!\")\n",
    "# 两个条件都满足才执行\n",
    "elif year % 4 == 0 and year % 100 != 0:\n",
    "    print(\"This is a leap year!\")\n",
    "else:\n",
    "    print(\"This is not a leap year.\")\n"
   ]
  },
  {
   "cell_type": "markdown",
   "metadata": {},
   "source": [
    "<div class=\"alert alert-success alertsuccess\" style=\"margin-top: 20px\">\n",
    "<h4> [tip] Python中的真与假 </h4>  \n",
    "\n",
    "Python只把 `True` and `False` 识别为表示真或假的值，这意味着其他的写法都是不合法的，比如 *TRUE* 和 *true*都是不会被Python识别为逻辑值。\n",
    "\n",
    "<p></p>\n",
    "</div>\n",
    "\n",
    "<hr></hr>"
   ]
  },
  {
   "cell_type": "markdown",
   "metadata": {},
   "source": [
    "### 判断条件为 `False` 情况总结:"
   ]
  },
  {
   "cell_type": "markdown",
   "metadata": {},
   "source": [
    "**Python** 不仅仅可以使用布尔型变量作为条件，它可以直接在 `if` 中使用任何表达式作为条件：\n",
    "\n",
    "大部分表达式的值都会被当作 `True`，但以下表达式值会被当作 `False`：\n",
    "\n",
    "- False\n",
    "- None\n",
    "- 0\n",
    "- 空字符串，空列表，空字典，空集合"
   ]
  },
  {
   "cell_type": "markdown",
   "metadata": {},
   "source": [
    "### 逻辑运算符 与and 或or 非not：\n",
    "\n",
    "有事件p与q，对其进行操作"
   ]
  },
  {
   "cell_type": "code",
   "execution_count": null,
   "metadata": {},
   "outputs": [],
   "source": [
    "p = True\n",
    "q = False\n",
    "p and q      "
   ]
  },
  {
   "cell_type": "code",
   "execution_count": null,
   "metadata": {},
   "outputs": [],
   "source": [
    "p or q     "
   ]
  },
  {
   "cell_type": "code",
   "execution_count": null,
   "metadata": {},
   "outputs": [],
   "source": [
    "True and False   # and 只要有一项为False就是False"
   ]
  },
  {
   "cell_type": "code",
   "execution_count": null,
   "metadata": {},
   "outputs": [],
   "source": [
    "True or False    # or 只有全是False才返回False"
   ]
  },
  {
   "cell_type": "markdown",
   "metadata": {},
   "source": [
    "- 那数字的布尔运算呢？"
   ]
  },
  {
   "cell_type": "code",
   "execution_count": null,
   "metadata": {},
   "outputs": [],
   "source": [
    "#思考 \n",
    "print(1 or 2)  \n",
    "print(3 or 2)  \n",
    "print(0 or 2)  \n",
    "print(0 or 0) "
   ]
  },
  {
   "cell_type": "code",
   "execution_count": null,
   "metadata": {},
   "outputs": [],
   "source": [
    "#思考\n",
    "print(1 and 3)  \n",
    "print(3 and 0)  \n",
    "print(0 and 2)  \n",
    "print(3 and 2)  \n",
    "print(0 and 0)  "
   ]
  },
  {
   "cell_type": "markdown",
   "metadata": {},
   "source": [
    "- Or：全0输出0，否则会输出第一个非0数字\n",
    "- And：有0即输出0，否则输出最后一个数"
   ]
  },
  {
   "cell_type": "markdown",
   "metadata": {},
   "source": [
    "#### 与、或、非联合判断的顺序：not -> and -> or"
   ]
  },
  {
   "cell_type": "code",
   "execution_count": null,
   "metadata": {},
   "outputs": [],
   "source": [
    "#思考\n",
    "1 or 0 and 3"
   ]
  },
  {
   "cell_type": "markdown",
   "metadata": {},
   "source": [
    "<hr></hr>\n",
    "<div class=\"alert alert-success alertsuccess\" style=\"margin-top: 20px\">\n",
    "<h4> Python中的逻辑运算 </h4>\n",
    "<p></p>\n",
    "你可以做如下各种逻辑运算:  \n",
    "<li> 判等: **1 == 2** </li>\n",
    "<li> 判不等: **True != False** </li>\n",
    "<li> 大于: **100 > 1** </li>\n",
    "<li> 大于或者等于: **100 >= 1** </li>\n",
    "<li> 小于: **1 < 2** </li>\n",
    "<li> 小于或者等于: **1 <= 2** </li>\n",
    "</div>"
   ]
  },
  {
   "cell_type": "markdown",
   "metadata": {},
   "source": [
    "下面判断一张1990年发表的专辑发行年份是否晚于1980年并早于2000年"
   ]
  },
  {
   "cell_type": "code",
   "execution_count": null,
   "metadata": {},
   "outputs": [],
   "source": [
    "album_year = 1990\n",
    "album_year > 1980 and album_year < 2000"
   ]
  },
  {
   "cell_type": "code",
   "execution_count": null,
   "metadata": {},
   "outputs": [],
   "source": [
    "#思考\n",
    "print(1 > 2 and 3 or 4 and 3 < 2 or not 4 > 5) "
   ]
  },
  {
   "cell_type": "markdown",
   "metadata": {},
   "source": [
    "## 4.1 循环\n",
    "\n",
    "循环的作用在于将一段代码重复执行多次。\n",
    "\n",
    "### `while` 循环"
   ]
  },
  {
   "cell_type": "markdown",
   "metadata": {},
   "source": [
    "    while <condition>:\n",
    "        <statesments>\n",
    "**Python** 会循环执行`<statesments>`，直到`<condition>`不满足为止。\n",
    "\n",
    "例如，计算数字`0`到`100`的和："
   ]
  },
  {
   "cell_type": "code",
   "execution_count": null,
   "metadata": {},
   "outputs": [],
   "source": [
    "i = 0\n",
    "\n",
    "# 求和结果\n",
    "total = 0\n",
    "\n",
    "# 循环条件\n",
    "while i < 100:\n",
    "    # 求和累加\n",
    "    total += i\n",
    "    # 变量递增\n",
    "    i += 1\n",
    "    \n",
    "# 打印结果\n",
    "print(total)"
   ]
  },
  {
   "cell_type": "markdown",
   "metadata": {},
   "source": [
    "之前提到，空容器会被当成 `False` ，因此可以用 `while` 循环来读取容器中的所有元素："
   ]
  },
  {
   "cell_type": "code",
   "execution_count": null,
   "metadata": {},
   "outputs": [],
   "source": [
    "plays = ['Hamlet', 'Macbeth', 'King Lear']\n",
    "while plays:\n",
    "    play = plays.pop()\n",
    "    print('Perform', play)"
   ]
  },
  {
   "cell_type": "markdown",
   "metadata": {},
   "source": [
    "循环每次从 `plays` 中弹出一个元素，一直到 `plays` 为空为止。"
   ]
  },
  {
   "cell_type": "markdown",
   "metadata": {},
   "source": [
    "### `for` 循环  \n",
    "\n",
    "    for <variable> in <sequence>:\n",
    "        <indented block of code>\n",
    "\n",
    "`for` 循环会遍历完`<sequence>`中所有元素为止\n",
    "\n",
    "上一个例子可以改写成如下形式："
   ]
  },
  {
   "cell_type": "code",
   "execution_count": null,
   "metadata": {},
   "outputs": [],
   "source": [
    "plays = ['Hamlet', 'Macbeth', 'King Lear']\n",
    "for play in plays:\n",
    "    print('Perform', play)"
   ]
  },
  {
   "cell_type": "markdown",
   "metadata": {},
   "source": [
    "使用 `for` 循环时，注意尽量不要改变 `plays` 的值，否则可能会产生意想不到的结果。\n",
    "\n",
    "之前的求和也可以通过 `for` 循环来实现："
   ]
  },
  {
   "cell_type": "code",
   "execution_count": null,
   "metadata": {},
   "outputs": [],
   "source": [
    "total = 0\n",
    "for i in range(100):\n",
    "    total += i\n",
    "print(total)"
   ]
  },
  {
   "cell_type": "code",
   "execution_count": null,
   "metadata": {},
   "outputs": [],
   "source": [
    "released_dates = [1982,1980,1973,1992]\n",
    "year = 0\n",
    "for year in released_dates:   #每一次循环，year会取released_date里的不同值\n",
    "    print(year)  \n",
    "\n",
    "#print(year)\n",
    "#外面的year被改变了吗？"
   ]
  },
  {
   "cell_type": "markdown",
   "metadata": {},
   "source": [
    "#### 如果只是想要建立循环次数，可以用for循环搭配range函数"
   ]
  },
  {
   "cell_type": "code",
   "execution_count": null,
   "metadata": {},
   "outputs": [],
   "source": [
    "for i in ['a','b','c','d']:\n",
    "    print('ok')"
   ]
  },
  {
   "cell_type": "code",
   "execution_count": null,
   "metadata": {},
   "outputs": [],
   "source": [
    "for i in range(10):\n",
    "    print(i)"
   ]
  },
  {
   "cell_type": "code",
   "execution_count": null,
   "metadata": {},
   "outputs": [],
   "source": [
    "for i in range(5,11,3):\n",
    "    print(i)"
   ]
  },
  {
   "cell_type": "code",
   "execution_count": null,
   "metadata": {},
   "outputs": [],
   "source": [
    "#range函数有三个参数range（起点, 终点, 步长）\n",
    "for i in range(5,10,2):\n",
    "    print(i)"
   ]
  },
  {
   "cell_type": "code",
   "execution_count": null,
   "metadata": {},
   "outputs": [],
   "source": [
    "#反过来\n",
    "for j in range(10,0,-2):\n",
    "    print(j)"
   ]
  },
  {
   "cell_type": "code",
   "execution_count": null,
   "metadata": {},
   "outputs": [],
   "source": [
    "#用 for循环做累加\n",
    "sum = 0\n",
    "for i in [1,2,3,4,5]:\n",
    "    sum +=i\n",
    "print(sum)"
   ]
  },
  {
   "cell_type": "code",
   "execution_count": null,
   "metadata": {},
   "outputs": [],
   "source": [
    "#for循环嵌套\n",
    "for i in ['Bobi','Niko','Mike']:\n",
    "    print(i)\n",
    "    for j in i:\n",
    "        print(j)"
   ]
  },
  {
   "cell_type": "code",
   "execution_count": null,
   "metadata": {},
   "outputs": [],
   "source": [
    "#for循环嵌套可以打印乘法口诀表\n",
    "for multiplier in range(1,4):\n",
    "    for i in range(10):\n",
    "        print(multiplier,\"x\",i,\"=\",i*multiplier)\n",
    "    print()"
   ]
  },
  {
   "cell_type": "code",
   "execution_count": null,
   "metadata": {},
   "outputs": [],
   "source": [
    "# 打印* block\n",
    "\n",
    "for i in range(3):\n",
    "    for j in range(4):\n",
    "        print(\"*\",end=\" \")\n",
    "    print()"
   ]
  },
  {
   "cell_type": "code",
   "execution_count": null,
   "metadata": {},
   "outputs": [],
   "source": [
    "dog_cal = 140\n",
    "bun_cal = 120\n",
    "ket_cal = 80\n",
    "mus_cal = 20\n",
    "onion_cal = 40\n",
    "\n",
    "print(\"\\tDog \\tBun \\tKetchup\\tMustard\\tOnions\\tCalories\")      #\\t是字节符 用来对齐\n",
    "count = 1\n",
    "for dog in [0,1]:\n",
    "    for bun in [0,1]:\n",
    "        for ketchup in [0,1]:\n",
    "            for mustard in [0,1]:\n",
    "                for onion in [0,1]:\n",
    "                    total_cal = (dog*dog_cal)+(bun*bun_cal)+\\\n",
    "                    (ketchup*ket_cal)+(mustard*mus_cal)+(onion*onion_cal)\n",
    "                    print(\"#\", count, \"\\t\", dog, \"\\t\", bun,\"\\t\",ketchup,\"\\t\",mustard,\"\\t\",onion,\"\\t\",total_cal)\n",
    "                    count = count + 1"
   ]
  },
  {
   "cell_type": "markdown",
   "metadata": {},
   "source": [
    "### `continue` 语句\n",
    "\n",
    "遇到 `continue` 的时候，程序会返回到循环的最开始重新执行。\n",
    "\n",
    "例如在循环中忽略一些特定的值："
   ]
  },
  {
   "cell_type": "code",
   "execution_count": null,
   "metadata": {},
   "outputs": [],
   "source": [
    "values = [7, 6, 4, 7, 19, 2, 1]\n",
    "for i in values:\n",
    "    if i % 2 != 0:\n",
    "        # 忽略奇数\n",
    "        continue\n",
    "    print(i/2)"
   ]
  },
  {
   "cell_type": "markdown",
   "metadata": {},
   "source": [
    "### `break` 语句  \n",
    "\n",
    "遇到 `break` 的时候，程序会跳出循环，不管循环条件是不是满足："
   ]
  },
  {
   "cell_type": "markdown",
   "metadata": {},
   "source": [
    "## 5.1 函数\n",
    "\n",
    "### 定义函数\n",
    "\n",
    "函数`function`，通常接收输入参数，并有返回值。\n",
    "\n",
    "它负责完成某项特定任务，而且相较于其他代码，具备相对的独立性。"
   ]
  },
  {
   "cell_type": "code",
   "execution_count": null,
   "metadata": {},
   "outputs": [],
   "source": [
    "def add(x, y):\n",
    "    #相加\n",
    "    a = x + y\n",
    "    return a"
   ]
  },
  {
   "cell_type": "markdown",
   "metadata": {},
   "source": [
    "函数通常有一下几个特征：\n",
    "- 使用 `def` 关键词来定义一个函数。\n",
    "-  `def` 后面是函数的名称，**括号中是函数的参数**，不同的参数用 `,` 隔开， `def foo():` 的形式是必须要有的，参数可以为空；\n",
    "- 使用缩进来划分函数的内容；\n",
    "-  `return` 返回特定的值，如果省略，返回值为 `None` 。"
   ]
  },
  {
   "cell_type": "markdown",
   "metadata": {},
   "source": [
    "### 使用函数\n",
    "\n",
    "使用函数时，只需要将参数换成特定的值传给函数。\n",
    "\n",
    "**Python** 并没有限定参数的类型，因此可以使用不同的参数类型："
   ]
  },
  {
   "cell_type": "code",
   "execution_count": null,
   "metadata": {},
   "outputs": [],
   "source": [
    "print(add(2, 3))\n",
    "print(add('foo', 'bar'))"
   ]
  },
  {
   "cell_type": "markdown",
   "metadata": {},
   "source": [
    "在这个例子中，如果传入的两个参数不可以相加，那么 **Python** 会将报错："
   ]
  },
  {
   "cell_type": "code",
   "execution_count": null,
   "metadata": {},
   "outputs": [],
   "source": [
    "print(add(2, \"foo\"))"
   ]
  },
  {
   "cell_type": "markdown",
   "metadata": {},
   "source": [
    "如果传入的参数数目与实际不符合，也会报错："
   ]
  },
  {
   "cell_type": "code",
   "execution_count": null,
   "metadata": {},
   "outputs": [],
   "source": [
    "print(add(1, 2, 3))"
   ]
  },
  {
   "cell_type": "markdown",
   "metadata": {},
   "source": [
    "传入参数时，**Python** 提供了两种选项，第一种是上面使用的按照位置传入参数，另一种则是使用关键词模式，显式地指定参数的值："
   ]
  },
  {
   "cell_type": "code",
   "execution_count": null,
   "metadata": {},
   "outputs": [],
   "source": [
    "print(add(x=2, y=3))\n",
    "print(add(y=\"foo\", x=\"bar\"))"
   ]
  },
  {
   "cell_type": "markdown",
   "metadata": {},
   "source": [
    "可以混合这两种模式："
   ]
  },
  {
   "cell_type": "code",
   "execution_count": null,
   "metadata": {},
   "outputs": [],
   "source": [
    "print(add(2, y=3))"
   ]
  },
  {
   "cell_type": "markdown",
   "metadata": {},
   "source": [
    "## 6.1 类与实例"
   ]
  },
  {
   "cell_type": "code",
   "execution_count": null,
   "metadata": {},
   "outputs": [],
   "source": [
    "#类的实例（1）\n",
    "class person:\n",
    "    def __init__(self,name,age):    #属性：初始化\n",
    "        self.name = name\n",
    "        self.age = age\n",
    "    def add(self):               #类的方法：函数\n",
    "        self.age += 1\n",
    "        print(self.age)\n",
    "    def add2(self):\n",
    "        self.age = self.age + 1      #self.xxx为类中的变量，在整个类中都可被识别\n",
    "        print(self.age)\n",
    "    \n",
    "A = person(\"Allen\",15)  #实例化\n",
    "\n",
    "A.add()   #实例调用类的方法\n",
    "A.add2()\n",
    "A.age"
   ]
  },
  {
   "cell_type": "code",
   "execution_count": null,
   "metadata": {},
   "outputs": [],
   "source": [
    "#类的实例（2）\n",
    "class Ball:\n",
    "    def __init__(self,color,size,direction):                     #在对象创建时完成初始化\n",
    "        self.color = color\n",
    "        self.size = size\n",
    "        self.direction = direction\n",
    "        \n",
    "    def bounce(self):\n",
    "        if self.direction == \"down\":\n",
    "            self.direction = \"up\"\n",
    "            \n",
    "myBall = Ball(\"red\",\"small\",\"down\")                                       #传入参数\n",
    "\n",
    "print(\"I just create a ball.\")\n",
    "print(\"My ball is\",myBall.size)\n",
    "print(\"My ball is\",myBall.color)\n",
    "print(\"My ball's direction is\",myBall.direction)\n",
    "print(\"Now I'm going to bounce the ball\")\n",
    "myBall.bounce()\n",
    "print(\"Now the ball's direction is\",myBall.direction)\n"
   ]
  },
  {
   "cell_type": "code",
   "execution_count": null,
   "metadata": {},
   "outputs": [],
   "source": [
    "#以一个热狗为例\n",
    "#属性： cooked_leverl cooked_string condiments 方法： cook() add_condiment() init str\n",
    "class HotDog:\n",
    "    def __init__(self):\n",
    "        self.cooked_level = 0\n",
    "        self.cooked_string = \"Raw\"\n",
    "        self.condiments = []                       #先从一个没有加任何配料的生热狗开始\n",
    "    \n",
    "    def cook(self,time):\n",
    "        self.cooked_level = self.cooked_level + time\n",
    "        if self.cooked_level > 8:\n",
    "            self.cooked_string = \"Charcoal\"\n",
    "        elif self.cooked_level > 5:\n",
    "            self.cooked_string = \"Well-done\"\n",
    "        elif self.cooked_level > 3:\n",
    "            self.cooked_string = \"Medium\"\n",
    "        else:\n",
    "            self.cooked_string = \"Raw\"\n",
    "        \n",
    "myDog = HotDog()\n",
    "print(myDog.cooked_level)\n",
    "print(myDog.cooked_string)\n",
    "print(myDog.condiments)                              #这仅仅测试的是初始数据\n",
    "\n",
    "print(\"Now I'm going to cook the hot dog\")\n",
    "myDog.cook(4)\n",
    "print(myDog.cooked_level)\n",
    "print(myDog.cooked_string)\n",
    "\n"
   ]
  },
  {
   "cell_type": "code",
   "execution_count": null,
   "metadata": {},
   "outputs": [],
   "source": [
    "class HotDog:\n",
    "    def __init__(self):                                       #先从一个没有加任何配料的生热狗开始\n",
    "        self.cooked_level = 0\n",
    "        self.cooked_string = \"Raw\"\n",
    "        self.condiments = []                           \n",
    "        \n",
    "    def __str__(self):                                        #定义新的__str__方法\n",
    "        msg = \"Hot dog\"\n",
    "        if len(self.condiments)>0:\n",
    "            msg = msg +\" with \"\n",
    "        for i in self.condiments:\n",
    "            msg = msg + i + \", \"\n",
    "        msg = msg.strip(\", \")                                 # msg.strip(\",\")用来删除头部尾部的逗号  \n",
    "        msg = self.cooked_string + \" \" + msg + \".\"\n",
    "        return msg\n",
    "    \n",
    "    def cook(self,time):                                      #添加方法1：cook\n",
    "        self.cooked_level = self.cooked_level + time\n",
    "        if self.cooked_level > 8:\n",
    "            self.cooked_string = \"Charcoal\"\n",
    "        elif self.cooked_level > 5:\n",
    "            self.cooked_string = \"Well-done\"\n",
    "        elif self.cooked_level > 3:\n",
    "            self.cooked_string = \"Medium\"\n",
    "        else:\n",
    "            self.cooked_string = \"Raw\"\n",
    "        \n",
    "    def addCondiment(self,condiment):                         #添加方法2：加料\n",
    "        self.condiments.append(condiment) \n",
    "        \n",
    "myDog = HotDog()\n",
    "print(myDog.cooked_level)\n",
    "print(myDog.cooked_string)\n",
    "print(myDog.condiments)                                      #这仅仅测试的是初始数据\n",
    "\n",
    "print(myDog)\n",
    "print(\"Cooking hot dog for 4 minutes...\")\n",
    "myDog.cook(4)\n",
    "print(myDog)\n",
    "print(\"Cooking hot dog for 3 more minutes...\")\n",
    "myDog.cook(3)\n",
    "print(myDog)\n",
    "print(\"What happens if I cook it for 10 more minutes...\")\n",
    "myDog.cook(10)\n",
    "print(myDog)\n",
    "print(\"Now I'm going to add some stuff on my hot dog\")\n",
    "myDog.addCondiment(\"ketchup\")\n",
    "myDog.addCondiment(\"mustard\")\n",
    "print(myDog)\n"
   ]
  },
  {
   "cell_type": "markdown",
   "metadata": {},
   "source": [
    "### 理解类变量与实例变量"
   ]
  },
  {
   "cell_type": "code",
   "execution_count": null,
   "metadata": {},
   "outputs": [],
   "source": [
    "class A:\n",
    "    w = 10\n",
    "\n",
    "    def __init__(self):\n",
    "        self.x = 11\n",
    "        self.y = 12\n",
    "\n",
    "    def add(self):\n",
    "        return self.x + self.y\n",
    "\n",
    "a = A()\n",
    "a.add()"
   ]
  },
  {
   "cell_type": "code",
   "execution_count": null,
   "metadata": {},
   "outputs": [],
   "source": [
    "# 怎样理解这m和n？他们是类变量\n",
    "A.m = 30\n",
    "A.n = 40\n",
    "print (A.m, A.n)  \n"
   ]
  },
  {
   "cell_type": "code",
   "execution_count": null,
   "metadata": {},
   "outputs": [],
   "source": [
    "# 怎样理解这t和q？他们是实例变量\n",
    "a.t = 14\n",
    "a.q = 15\n",
    "print (a.t, a.q)  \n",
    "a.w"
   ]
  },
  {
   "cell_type": "code",
   "execution_count": null,
   "metadata": {},
   "outputs": [],
   "source": [
    "# 程序继续增加,下列三个print语句都能正确执行么？为何？\n",
    "\n",
    "b = A()\n",
    "print (b.x, b.y)  \n",
    "print (b.m, b.n) \n"
   ]
  },
  {
   "cell_type": "code",
   "execution_count": null,
   "metadata": {},
   "outputs": [],
   "source": [
    "print (b.t, b.q)"
   ]
  },
  {
   "cell_type": "markdown",
   "metadata": {},
   "source": [
    "### 最后，关于类的继承，先做一个基础的类的练习。"
   ]
  },
  {
   "cell_type": "markdown",
   "metadata": {},
   "source": [
    "### 练习:\n",
    "为BankAccount 建立一个类定义。\n",
    "\n",
    "它应该有一些属性，包括账户名（一个字符串）、账号（一个字符串或整数）和余额（一个浮点数），\n",
    "\n",
    "另外还要有一些方法：显示余额、存钱和取钱。\n"
   ]
  },
  {
   "cell_type": "code",
   "execution_count": null,
   "metadata": {},
   "outputs": [],
   "source": [
    "#code here\n",
    "\n",
    "\n",
    "\n",
    "\n",
    "\n",
    "\n",
    "\n",
    "\n",
    "\n",
    "\n",
    "\n",
    "\n",
    "\n"
   ]
  },
  {
   "cell_type": "code",
   "execution_count": null,
   "metadata": {},
   "outputs": [],
   "source": [
    "# 解答\n",
    "class BankAccount:\n",
    "    def __init__(self,acct_number,acct_name):\n",
    "        self.acct_number = acct_number\n",
    "        self.acct_name = acct_name\n",
    "        self.balance = 0.0\n",
    "    \n",
    "    def displayBalance(self):\n",
    "        print(\"The account balance is: \",self.balance)\n",
    "    \n",
    "    def deposit(self,amount):          #存\n",
    "        self.balance = self.balance + amount\n",
    "        print(\"You deposited\",amount)\n",
    "        print(\"The new balance is: \",self.balance)\n",
    "        \n",
    "    def withdraw(self,amount):         #取\n",
    "        if self.balance >= amount:\n",
    "            self.balance = self.balance - amount\n",
    "            print(\"You withdraw\",amount)\n",
    "            print(\"The new balance is: \",self.balance)\n",
    "        else:\n",
    "            print(\"You tried to withdraw\",amount)\n",
    "            print(\"The account balance is:\",self.balance)\n",
    "            print(\"Withdrawal denied. Not enough funds.\")\n",
    "                   \n",
    "#测试\n",
    "myAccount = BankAccount(123456,\"XXZY\")\n",
    "print(\"Account name:\",myAccount.acct_name)\n",
    "print(\"Account number:\",myAccount.acct_number)\n",
    "myAccount.displayBalance()\n",
    "\n",
    "myAccount.deposit(100)\n",
    "myAccount.withdraw(50)\n",
    "myAccount.withdraw(60)\n"
   ]
  },
  {
   "cell_type": "markdown",
   "metadata": {},
   "source": [
    "### 进一步:\n",
    "建立一个可以挣利息的类，名为InterestAccount。\n",
    "\n",
    "这应当是BankAccount的一个子类（所以会继承其属性和方法）。\n",
    "\n",
    "InterestAccount还应当有一个对应利息率的属性，另外有一个方法来增加利息。\n",
    "\n",
    "为了简化，假设每年会调用一次addInterest()方法计算利息并更新余额。\n",
    "\n"
   ]
  },
  {
   "cell_type": "code",
   "execution_count": null,
   "metadata": {},
   "outputs": [],
   "source": [
    "#code here\n",
    "\n",
    "\n",
    "\n",
    "\n",
    "\n",
    "\n",
    "\n",
    "\n",
    "\n",
    "\n",
    "\n",
    "\n",
    "\n",
    "\n"
   ]
  },
  {
   "cell_type": "code",
   "execution_count": null,
   "metadata": {},
   "outputs": [],
   "source": [
    "# 练习2\n",
    "class InterestAccount(BankAccount):\n",
    "    def __init__(self,acct_number,acct_name,rate):\n",
    "        BankAccount.__init__(self,acct_number,acct_name)\n",
    "        self.rate = rate\n",
    "        \n",
    "    def addInterest(self):\n",
    "        interest = self.balance * self.rate\n",
    "        print(\"adding interest to the account,\",self.rate * 100, \"percent\")\n",
    "        self.deposit(interest)\n",
    "\n",
    "\n",
    "#测试\n",
    "myAccount = InterestAccount(123456,\"XXZY\",0.11)\n",
    "print(\"Account name:\",myAccount.acct_name)\n",
    "print(\"Account number:\",myAccount.acct_number)\n",
    "myAccount.displayBalance()\n",
    "myAccount.deposit(100)\n",
    "myAccount.addInterest()"
   ]
  },
  {
   "cell_type": "markdown",
   "metadata": {},
   "source": [
    "### 练习：\n",
    "\n",
    "1、球体类（Sphere）\n",
    "\n",
    "- 类属性:  diameter（直径）、density（密度）、color（颜色）\n",
    "- 类方法：计算体积volume()、计算质量quality()\n",
    "\n",
    "\n",
    "2、球壳类（Spherical_shell）\n",
    "\n",
    "- 类属性：继承Sphere，同时新增iner_diameter（内径）属性\n",
    "- 类方法：将quality()与volume()方法重写\n",
    "\n",
    "完成以上两个类，同时创建以下两个实例。\n",
    "\n",
    "分别计算体积与质量：\n",
    "（1）红球，直径5，密度2；（2）黑球壳，直径5，内径3，密度2.5；\n",
    "π可用math函数导入\n"
   ]
  },
  {
   "cell_type": "code",
   "execution_count": null,
   "metadata": {},
   "outputs": [],
   "source": [
    "#code here\n",
    "\n",
    "\n",
    "\n",
    "\n",
    "\n",
    "\n",
    "\n",
    "\n",
    "\n",
    "\n",
    "\n",
    "\n"
   ]
  }
 ],
 "metadata": {
  "kernelspec": {
   "display_name": "Python 3",
   "language": "python",
   "name": "python3"
  },
  "language_info": {
   "codemirror_mode": {
    "name": "ipython",
    "version": 3
   },
   "file_extension": ".py",
   "mimetype": "text/x-python",
   "name": "python",
   "nbconvert_exporter": "python",
   "pygments_lexer": "ipython3",
   "version": "3.7.2"
  }
 },
 "nbformat": 4,
 "nbformat_minor": 4
}
